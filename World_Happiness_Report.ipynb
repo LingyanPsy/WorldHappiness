{
 "cells": [
  {
   "cell_type": "markdown",
   "metadata": {},
   "source": [
    "# Three things you need to know in your journey to find happiness "
   ]
  },
  {
   "cell_type": "markdown",
   "metadata": {},
   "source": [
    "#### Based on the World Happiness Report from 2015 to 2020. I want to provide advice to people who are looking for a happy place to live, based on the following three questions:\n",
    "\n",
    "Question 1: Which are the happist places in the world?\n",
    "\n",
    "Question 2: Which places have the largest happiness change through out the years?\n",
    "\n",
    "Question 3: What factors contribute to happiness?"
   ]
  },
  {
   "cell_type": "code",
   "execution_count": 67,
   "metadata": {
    "collapsed": false
   },
   "outputs": [],
   "source": [
    "# import packages \n",
    "import numpy as np\n",
    "import pandas as pd\n",
    "import matplotlib.pyplot as plt\n",
    "from collections import defaultdict \n",
    "import seaborn as sns\n",
    "from sklearn.linear_model import LinearRegression\n",
    "from sklearn.model_selection import train_test_split\n",
    "from sklearn.metrics import r2_score, mean_squared_error\n",
    "%matplotlib inline"
   ]
  },
  {
   "cell_type": "code",
   "execution_count": 68,
   "metadata": {
    "collapsed": true
   },
   "outputs": [],
   "source": [
    "# import data \n",
    "df1 = pd.read_csv('world-happiness/2015.csv')\n",
    "df2 = pd.read_csv('world-happiness/2016.csv')\n",
    "df3 = pd.read_csv('world-happiness/2017.csv')\n",
    "df4 = pd.read_csv('world-happiness/2018.csv')\n",
    "df5 = pd.read_csv('world-happiness/2019.csv')\n",
    "df6 = pd.read_csv('world-happiness/2020.csv')"
   ]
  },
  {
   "cell_type": "code",
   "execution_count": 69,
   "metadata": {
    "collapsed": false
   },
   "outputs": [
    {
     "data": {
      "text/html": [
       "<div>\n",
       "<table border=\"1\" class=\"dataframe\">\n",
       "  <thead>\n",
       "    <tr style=\"text-align: right;\">\n",
       "      <th></th>\n",
       "      <th>Country</th>\n",
       "      <th>Region</th>\n",
       "      <th>Happiness Rank</th>\n",
       "      <th>Happiness Score</th>\n",
       "      <th>Standard Error</th>\n",
       "      <th>Economy (GDP per Capita)</th>\n",
       "      <th>Family</th>\n",
       "      <th>Health (Life Expectancy)</th>\n",
       "      <th>Freedom</th>\n",
       "      <th>Trust (Government Corruption)</th>\n",
       "      <th>Generosity</th>\n",
       "      <th>Dystopia Residual</th>\n",
       "    </tr>\n",
       "  </thead>\n",
       "  <tbody>\n",
       "    <tr>\n",
       "      <th>0</th>\n",
       "      <td>Switzerland</td>\n",
       "      <td>Western Europe</td>\n",
       "      <td>1</td>\n",
       "      <td>7.587</td>\n",
       "      <td>0.03411</td>\n",
       "      <td>1.39651</td>\n",
       "      <td>1.34951</td>\n",
       "      <td>0.94143</td>\n",
       "      <td>0.66557</td>\n",
       "      <td>0.41978</td>\n",
       "      <td>0.29678</td>\n",
       "      <td>2.51738</td>\n",
       "    </tr>\n",
       "    <tr>\n",
       "      <th>1</th>\n",
       "      <td>Iceland</td>\n",
       "      <td>Western Europe</td>\n",
       "      <td>2</td>\n",
       "      <td>7.561</td>\n",
       "      <td>0.04884</td>\n",
       "      <td>1.30232</td>\n",
       "      <td>1.40223</td>\n",
       "      <td>0.94784</td>\n",
       "      <td>0.62877</td>\n",
       "      <td>0.14145</td>\n",
       "      <td>0.43630</td>\n",
       "      <td>2.70201</td>\n",
       "    </tr>\n",
       "    <tr>\n",
       "      <th>2</th>\n",
       "      <td>Denmark</td>\n",
       "      <td>Western Europe</td>\n",
       "      <td>3</td>\n",
       "      <td>7.527</td>\n",
       "      <td>0.03328</td>\n",
       "      <td>1.32548</td>\n",
       "      <td>1.36058</td>\n",
       "      <td>0.87464</td>\n",
       "      <td>0.64938</td>\n",
       "      <td>0.48357</td>\n",
       "      <td>0.34139</td>\n",
       "      <td>2.49204</td>\n",
       "    </tr>\n",
       "    <tr>\n",
       "      <th>3</th>\n",
       "      <td>Norway</td>\n",
       "      <td>Western Europe</td>\n",
       "      <td>4</td>\n",
       "      <td>7.522</td>\n",
       "      <td>0.03880</td>\n",
       "      <td>1.45900</td>\n",
       "      <td>1.33095</td>\n",
       "      <td>0.88521</td>\n",
       "      <td>0.66973</td>\n",
       "      <td>0.36503</td>\n",
       "      <td>0.34699</td>\n",
       "      <td>2.46531</td>\n",
       "    </tr>\n",
       "    <tr>\n",
       "      <th>4</th>\n",
       "      <td>Canada</td>\n",
       "      <td>North America</td>\n",
       "      <td>5</td>\n",
       "      <td>7.427</td>\n",
       "      <td>0.03553</td>\n",
       "      <td>1.32629</td>\n",
       "      <td>1.32261</td>\n",
       "      <td>0.90563</td>\n",
       "      <td>0.63297</td>\n",
       "      <td>0.32957</td>\n",
       "      <td>0.45811</td>\n",
       "      <td>2.45176</td>\n",
       "    </tr>\n",
       "  </tbody>\n",
       "</table>\n",
       "</div>"
      ],
      "text/plain": [
       "       Country          Region  Happiness Rank  Happiness Score  \\\n",
       "0  Switzerland  Western Europe               1            7.587   \n",
       "1      Iceland  Western Europe               2            7.561   \n",
       "2      Denmark  Western Europe               3            7.527   \n",
       "3       Norway  Western Europe               4            7.522   \n",
       "4       Canada   North America               5            7.427   \n",
       "\n",
       "   Standard Error  Economy (GDP per Capita)   Family  \\\n",
       "0         0.03411                   1.39651  1.34951   \n",
       "1         0.04884                   1.30232  1.40223   \n",
       "2         0.03328                   1.32548  1.36058   \n",
       "3         0.03880                   1.45900  1.33095   \n",
       "4         0.03553                   1.32629  1.32261   \n",
       "\n",
       "   Health (Life Expectancy)  Freedom  Trust (Government Corruption)  \\\n",
       "0                   0.94143  0.66557                        0.41978   \n",
       "1                   0.94784  0.62877                        0.14145   \n",
       "2                   0.87464  0.64938                        0.48357   \n",
       "3                   0.88521  0.66973                        0.36503   \n",
       "4                   0.90563  0.63297                        0.32957   \n",
       "\n",
       "   Generosity  Dystopia Residual  \n",
       "0     0.29678            2.51738  \n",
       "1     0.43630            2.70201  \n",
       "2     0.34139            2.49204  \n",
       "3     0.34699            2.46531  \n",
       "4     0.45811            2.45176  "
      ]
     },
     "execution_count": 69,
     "metadata": {},
     "output_type": "execute_result"
    }
   ],
   "source": [
    "# Assess and understand data columns and types \n",
    "df1.head()"
   ]
  },
  {
   "cell_type": "markdown",
   "metadata": {
    "collapsed": false
   },
   "source": [
    "### Data Description\n",
    "\n",
    "#### y:\n",
    "Happiness Score\n",
    "\n",
    "#### X :\n",
    "##### Categorical:\n",
    "\n",
    "Region (geographic region larger then contry such as western Europe, Categorical)\n",
    "\n",
    "##### Quantitative:\n",
    "GDP\n",
    "\n",
    "Social support\n",
    "\n",
    "Heahthy life expectancy\n",
    "\n",
    "Freedom to make life choices \n",
    "\n",
    "Generosity \n",
    "\n",
    "Perception of corruption \n",
    "\n",
    "#### These variables are quite self-explanatory might have slightly different names in different year's data, and they'll be cleaned. There are some other variables I didn't use (for example, happiness rank) in this analysis, so it was not mentioned here. "
   ]
  },
  {
   "cell_type": "code",
   "execution_count": 70,
   "metadata": {
    "collapsed": false
   },
   "outputs": [
    {
     "name": "stderr",
     "output_type": "stream",
     "text": [
      "C:\\Users\\Lingyan\\Anaconda\\lib\\site-packages\\pandas\\core\\frame.py:2754: SettingWithCopyWarning: \n",
      "A value is trying to be set on a copy of a slice from a DataFrame\n",
      "\n",
      "See the caveats in the documentation: http://pandas.pydata.org/pandas-docs/stable/indexing.html#indexing-view-versus-copy\n",
      "  **kwargs)\n"
     ]
    }
   ],
   "source": [
    "# Data cleaning: \n",
    "# Extract only important variables in 2020's data \n",
    "df6 = df6[['Country name','Regional indicator','Ladder score','Explained by: Log GDP per capita','Explained by: Social support','Explained by: Healthy life expectancy','Explained by: Freedom to make life choices','Explained by: Generosity','Explained by: Perceptions of corruption']]\n",
    "\n",
    "# extract different contries' happiness score as y variable\n",
    "df1_score = df1[['Country','Region','Happiness Score']]\n",
    "df2_score = df2[['Country','Happiness Score']]\n",
    "df3_score = df3[['Country','Happiness.Score']]\n",
    "df4_score = df4[['Country or region','Score']]\n",
    "df5_score = df5[['Country or region','Score']]\n",
    "df6_score = df6[['Country name','Ladder score']]\n",
    "\n",
    "# Unifying variable names in different years' dataset\n",
    "df1_score.rename(columns = {'Happiness Score':'Score1'},inplace = True)\n",
    "df2_score.rename(columns = {'Happiness Score':'Score2'},inplace = True)\n",
    "df3_score.rename(columns = {'Happiness.Score':'Score3'},inplace = True)\n",
    "df4_score.rename(columns = {'Country or region':'Country','Score':'Score4'},inplace = True)\n",
    "df5_score.rename(columns = {'Country or region':'Country','Score':'Score5'},inplace = True)\n",
    "df6.rename(columns={'Country name': 'Country','Reginonal indicator': 'Region','Ladder score': 'Score'},inplace=True)\n",
    "df6_score.rename(columns = {'Country name': 'Country','Ladder score':'Score6'},inplace = True)\n",
    "\n",
    "# renaming 2020's data to make it more succinct \n",
    "df6.rename(columns = {'Explained by: Log GDP per capita':'GDP',\n",
    "                      'Explained by: Social support':'Social_support',\n",
    "                      'Explained by: Healthy life expectancy':'HLE',\n",
    "                     'Explained by: Freedom to make life choices':'Freedom',\n",
    "                      'Explained by: Generosity':'Generosity',\n",
    "                      'Explained by: Perceptions of corruption':'Perceptions_of_Corruption'},\n",
    "          inplace = True)\n"
   ]
  },
  {
   "cell_type": "markdown",
   "metadata": {},
   "source": [
    " #### Q1: Which are the happiest regions in the world?"
   ]
  },
  {
   "cell_type": "code",
   "execution_count": 71,
   "metadata": {
    "collapsed": false,
    "scrolled": false
   },
   "outputs": [
    {
     "data": {
      "text/plain": [
       "(0, 10)"
      ]
     },
     "execution_count": 71,
     "metadata": {},
     "output_type": "execute_result"
    },
    {
     "data": {
      "image/png": "[encoded data removed]",
      "text/plain": [
       "<matplotlib.figure.Figure at 0x1ce3252eda0>"
      ]
     },
     "metadata": {},
     "output_type": "display_data"
    }
   ],
   "source": [
    "# Sort 2020's data on happiness score to find which countries have highest happiness score\n",
    "happy_rank = df6[['Country','Score']].sort_values('Score',ascending=False)[:10]\n",
    "# plot\n",
    "happy_rank.rename(columns = {'Score':'Happiness Score'},inplace=True)\n",
    "sns.barplot(happy_rank['Country'],happy_rank['Happiness Score'],palette='spring_r')\n",
    "plt.xticks(rotation=90)\n",
    "plt.title('10 Happiest countries in the world in 2020');\n",
    "plt.ylim((0,10))"
   ]
  },
  {
   "cell_type": "code",
   "execution_count": 72,
   "metadata": {
    "collapsed": false
   },
   "outputs": [
    {
     "data": {
      "image/png": "[encoded data removed]",
      "text/plain": [
       "<matplotlib.figure.Figure at 0x1ce323f1e10>"
      ]
     },
     "metadata": {},
     "output_type": "display_data"
    }
   ],
   "source": [
    "# Sort 2020's data on happiness score to find which regions have highest happiness score \n",
    "# combine df1 and df6 to assign region variables to different countries in df6 (2020)\n",
    "df1_df6 = df6.merge(df1,how = 'inner',on = 'Country')\n",
    "# average happiness values in different regions\n",
    "region_mean_20 = df1_df6[['Regional indicator','Score']].groupby('Regional indicator').mean().sort_values('Score',ascending = False)\n",
    "# plot\n",
    "sns.barplot(region_mean_20.index, region_mean_20.rename(columns = {'Score':'Happiness Score'})['Happiness Score'],palette='spring_r')\n",
    "plt.xticks(rotation=90)\n",
    "fig = plt.gcf()\n",
    "plt.ylim((0,10))\n",
    "plt.title('World regions ranked by average happiness scores')\n",
    "plt.show()\n"
   ]
  },
  {
   "cell_type": "markdown",
   "metadata": {
    "collapsed": false
   },
   "source": [
    "#### Answer of question 1:\n",
    "Finland is the happiness country in the world\n",
    "\n",
    "North America and ANZ (Australia and New Zealand) is the happiest region in the world"
   ]
  },
  {
   "cell_type": "markdown",
   "metadata": {
    "collapsed": false,
    "scrolled": false
   },
   "source": [
    " #### Q2: Which places have the largest happiness change through out the years?"
   ]
  },
  {
   "cell_type": "code",
   "execution_count": 73,
   "metadata": {
    "collapsed": false
   },
   "outputs": [
    {
     "data": {
      "text/html": [
       "<div>\n",
       "<table border=\"1\" class=\"dataframe\">\n",
       "  <thead>\n",
       "    <tr style=\"text-align: right;\">\n",
       "      <th></th>\n",
       "      <th>Country</th>\n",
       "      <th>Region</th>\n",
       "      <th>Score1</th>\n",
       "      <th>Score6</th>\n",
       "      <th>Diff</th>\n",
       "    </tr>\n",
       "  </thead>\n",
       "  <tbody>\n",
       "    <tr>\n",
       "      <th>0</th>\n",
       "      <td>Switzerland</td>\n",
       "      <td>Western Europe</td>\n",
       "      <td>7.587</td>\n",
       "      <td>7.5599</td>\n",
       "      <td>-0.0271</td>\n",
       "    </tr>\n",
       "    <tr>\n",
       "      <th>1</th>\n",
       "      <td>Iceland</td>\n",
       "      <td>Western Europe</td>\n",
       "      <td>7.561</td>\n",
       "      <td>7.5045</td>\n",
       "      <td>-0.0565</td>\n",
       "    </tr>\n",
       "    <tr>\n",
       "      <th>2</th>\n",
       "      <td>Denmark</td>\n",
       "      <td>Western Europe</td>\n",
       "      <td>7.527</td>\n",
       "      <td>7.6456</td>\n",
       "      <td>0.1186</td>\n",
       "    </tr>\n",
       "    <tr>\n",
       "      <th>3</th>\n",
       "      <td>Norway</td>\n",
       "      <td>Western Europe</td>\n",
       "      <td>7.522</td>\n",
       "      <td>7.4880</td>\n",
       "      <td>-0.0340</td>\n",
       "    </tr>\n",
       "    <tr>\n",
       "      <th>4</th>\n",
       "      <td>Canada</td>\n",
       "      <td>North America</td>\n",
       "      <td>7.427</td>\n",
       "      <td>7.2321</td>\n",
       "      <td>-0.1949</td>\n",
       "    </tr>\n",
       "  </tbody>\n",
       "</table>\n",
       "</div>"
      ],
      "text/plain": [
       "       Country          Region  Score1  Score6    Diff\n",
       "0  Switzerland  Western Europe   7.587  7.5599 -0.0271\n",
       "1      Iceland  Western Europe   7.561  7.5045 -0.0565\n",
       "2      Denmark  Western Europe   7.527  7.6456  0.1186\n",
       "3       Norway  Western Europe   7.522  7.4880 -0.0340\n",
       "4       Canada   North America   7.427  7.2321 -0.1949"
      ]
     },
     "execution_count": 73,
     "metadata": {},
     "output_type": "execute_result"
    }
   ],
   "source": [
    "# merge score data from 2015 and 2020 years and calculate difference \n",
    "df_years = df1_score.merge(df6_score,how = 'inner',on = 'Country')\n",
    "df_years.insert(4,'Diff',df_years['Score6']-df_years['Score1'])\n",
    "df_years.head()"
   ]
  },
  {
   "cell_type": "code",
   "execution_count": 74,
   "metadata": {
    "collapsed": false
   },
   "outputs": [
    {
     "data": {
      "image/png": "[encoded data removed]",
      "text/plain": [
       "<matplotlib.figure.Figure at 0x1ce30dd26d8>"
      ]
     },
     "metadata": {},
     "output_type": "display_data"
    }
   ],
   "source": [
    "# First 5 positive changes and first 5 negative changes \n",
    "sns.barplot(x = 'Country',y = 'Diff',data = df_years, palette='coolwarm_r',order = df_years.sort_values('Diff',ascending = False)['Country'][:5].append(df_years.sort_values('Diff')['Country'][:5].iloc[::-1]))\n",
    "plt.xticks(rotation=90)\n",
    "plt.tight_layout()"
   ]
  },
  {
   "cell_type": "markdown",
   "metadata": {
    "collapsed": true
   },
   "source": [
    "#### Answer of question 2:\n",
    "Benin has the largest positive changes from 2015 to 2020\n",
    "\n",
    "Afghanistan has the largest negative changes "
   ]
  },
  {
   "cell_type": "markdown",
   "metadata": {
    "collapsed": true
   },
   "source": [
    "#### Question 3: What factors contribute to happiness?\n"
   ]
  },
  {
   "cell_type": "code",
   "execution_count": 79,
   "metadata": {
    "collapsed": true
   },
   "outputs": [],
   "source": [
    "# further clean 2020 data \n",
    "df = df6\n",
    "# drop out rows where Score (y variable) doesn't exist\n",
    "df = df.dropna(subset = ['Score'],axis = 0)\n",
    "\n",
    "# separate X and y variable\n",
    "X = df.drop(['Country','Score'],axis = 1)\n",
    "y = df['Score']\n",
    "\n",
    "# fill non-categorical X variables with mean to null values \n",
    "num_vars = X.select_dtypes(include=['int','float']).columns \n",
    "for col in num_vars:\n",
    "    X[col].fillna(X[col].mean(),inplace = True)\n",
    "\n",
    "# replace categorical X variables \n",
    "cat_vars = X.select_dtypes(include=['object']).columns \n",
    "for var in cat_vars:\n",
    "    X = pd.concat([X.drop(var,axis = 1),pd.get_dummies(X[var],prefix=var,prefix_sep='_',drop_first=True)],axis = 1)\n",
    " "
   ]
  },
  {
   "cell_type": "code",
   "execution_count": 80,
   "metadata": {
    "collapsed": false
   },
   "outputs": [
    {
     "data": {
      "text/plain": [
       "0.7275220956123611"
      ]
     },
     "execution_count": 80,
     "metadata": {},
     "output_type": "execute_result"
    }
   ],
   "source": [
    "#split train and test data set\n",
    "X_train, X_test, y_train, y_test = train_test_split(X, y, test_size = 0.3, random_state=42)\n",
    "\n",
    "# build linear regression model and fit\n",
    "lm_model = LinearRegression(normalize=True) # Instantiate\n",
    "lm_model.fit(X_train, y_train)\n",
    "\n",
    "# predict and calculate r2 score in train and test dataset \n",
    "y_test_preds = lm_model.predict(X_test)\n",
    "y_train_preds = lm_model.predict(X_train)\n",
    "#Score using your model\n",
    "test_score = r2_score(y_test, y_test_preds)\n",
    "train_score = r2_score(y_train, y_train_preds)\n",
    "test_score"
   ]
  },
  {
   "cell_type": "code",
   "execution_count": 81,
   "metadata": {
    "collapsed": false
   },
   "outputs": [
    {
     "data": {
      "text/html": [
       "<div>\n",
       "<table border=\"1\" class=\"dataframe\">\n",
       "  <thead>\n",
       "    <tr style=\"text-align: right;\">\n",
       "      <th></th>\n",
       "      <th>Factors</th>\n",
       "      <th>Weights</th>\n",
       "    </tr>\n",
       "  </thead>\n",
       "  <tbody>\n",
       "    <tr>\n",
       "      <th>0</th>\n",
       "      <td>Generosity</td>\n",
       "      <td>1.486931</td>\n",
       "    </tr>\n",
       "    <tr>\n",
       "      <th>1</th>\n",
       "      <td>Freedom</td>\n",
       "      <td>1.438842</td>\n",
       "    </tr>\n",
       "    <tr>\n",
       "      <th>2</th>\n",
       "      <td>Social_support</td>\n",
       "      <td>0.915516</td>\n",
       "    </tr>\n",
       "    <tr>\n",
       "      <th>3</th>\n",
       "      <td>GDP</td>\n",
       "      <td>0.765970</td>\n",
       "    </tr>\n",
       "    <tr>\n",
       "      <th>4</th>\n",
       "      <td>HLE</td>\n",
       "      <td>0.693508</td>\n",
       "    </tr>\n",
       "  </tbody>\n",
       "</table>\n",
       "</div>"
      ],
      "text/plain": [
       "          Factors   Weights\n",
       "0      Generosity  1.486931\n",
       "1         Freedom  1.438842\n",
       "2  Social_support  0.915516\n",
       "3             GDP  0.765970\n",
       "4             HLE  0.693508"
      ]
     },
     "execution_count": 81,
     "metadata": {},
     "output_type": "execute_result"
    }
   ],
   "source": [
    "# plot the most important factors \n",
    "coefs_df = pd.DataFrame()\n",
    "coefs_df['Factors'] = X_train.columns\n",
    "coefs_df['Weights'] = lm_model.coef_\n",
    "coefs_df = coefs_df.sort_values('Weights', ascending=False)\n",
    "coefs_df.head().reset_index()[['Factors','Weights']]"
   ]
  },
  {
   "cell_type": "markdown",
   "metadata": {
    "collapsed": true
   },
   "source": [
    "#### Answer of question 3:\n",
    "A linear regression model could well capture and predict (r2 = 0.73)  happiness score, indicating all countries showing similar factors predicting happiness \n",
    "\n",
    "The most important factors are Generosity, Freedom (to make life choices), and social support "
   ]
  }
 ],
 "metadata": {
  "anaconda-cloud": {},
  "kernelspec": {
   "display_name": "Python [default]",
   "language": "python",
   "name": "python3"
  },
  "language_info": {
   "codemirror_mode": {
    "name": "ipython",
    "version": 3
   },
   "file_extension": ".py",
   "mimetype": "text/x-python",
   "name": "python",
   "nbconvert_exporter": "python",
   "pygments_lexer": "ipython3",
   "version": "3.5.2"
  }
 },
 "nbformat": 4,
 "nbformat_minor": 1
}
